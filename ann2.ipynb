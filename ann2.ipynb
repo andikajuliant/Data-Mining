{
  "nbformat": 4,
  "nbformat_minor": 0,
  "metadata": {
    "colab": {
      "name": "Untitled0.ipynb",
      "provenance": [],
      "authorship_tag": "ABX9TyOA4OWgnMWiism1wyC27Bls",
      "include_colab_link": true
    },
    "kernelspec": {
      "name": "python3",
      "display_name": "Python 3"
    },
    "language_info": {
      "name": "python"
    }
  },
  "cells": [
    {
      "cell_type": "markdown",
      "metadata": {
        "id": "view-in-github",
        "colab_type": "text"
      },
      "source": [
        "<a href=\"https://colab.research.google.com/github/andikajuliant/Data-Mining/blob/main/ann2.ipynb\" target=\"_parent\"><img src=\"https://colab.research.google.com/assets/colab-badge.svg\" alt=\"Open In Colab\"/></a>"
      ]
    },
    {
      "cell_type": "code",
      "execution_count": 1,
      "metadata": {
        "id": "VMPdn5fWtSh2"
      },
      "outputs": [],
      "source": [
        "import numpy as np"
      ]
    },
    {
      "cell_type": "code",
      "source": [
        "def forwardPass(inputs, weight, bias, activation = 'linear'):\n",
        "    w_sum = np.dot(inputs, weight) + bias\n",
        "\n",
        "    if activation == 'relu' :\n",
        "        # ReLU Activation f(x) = max(0, x)\n",
        "        act = np.maximum(w_sum, 0)\n",
        "    else :\n",
        "        # Linear Activation f(x) = x\n",
        "        act = w_sum\n",
        "\n",
        "    return act"
      ],
      "metadata": {
        "id": "6C174huBtXuQ"
      },
      "execution_count": 2,
      "outputs": []
    },
    {
      "cell_type": "code",
      "source": [
        "W_H = np.array([[0.00192761, -0.78845304, 0.30310717, 0.44131625, 0.32792646, -0.02451803, 1.43445349, -1.12972116]])\n",
        "b_H = np.array([-0.02657719, -1.15885878, -0.79183501, -0.33550513, -0.23438406, -0.25078532, 0.22305705, 0.80253315])\n",
        "W_o = np.array([[-0.77540326], [ 0.5030424 ], [ 0.37374797], [-0.20287184], [-0.35956827], [-0.54576212], [ 1.04326093], [ 0.8857621 ]])\n",
        "b_o = np.array([ 0.04351173])"
      ],
      "metadata": {
        "id": "WMkkDozgtgY2"
      },
      "execution_count": 3,
      "outputs": []
    },
    {
      "cell_type": "code",
      "source": [
        "inputs = np.array([[-2], [0], [2]])"
      ],
      "metadata": {
        "id": "sNod1BWHtlL5"
      },
      "execution_count": 4,
      "outputs": []
    },
    {
      "cell_type": "code",
      "source": [
        "h_out = forwardPass(inputs, W_H, b_H, 'relu')"
      ],
      "metadata": {
        "id": "o5xm607Dto2M"
      },
      "execution_count": 5,
      "outputs": []
    },
    {
      "cell_type": "code",
      "source": [
        "print('Hidden Layer Output (ReLU)')\n",
        "print('================================')\n",
        "print(h_out, \"\\n\")"
      ],
      "metadata": {
        "colab": {
          "base_uri": "https://localhost:8080/"
        },
        "id": "wbjJWAtstrCg",
        "outputId": "7bd54928-a7a1-4531-d255-634734be3874"
      },
      "execution_count": 6,
      "outputs": [
        {
          "output_type": "stream",
          "name": "stdout",
          "text": [
            "Hidden Layer Output (ReLU)\n",
            "================================\n",
            "[[0.         0.4180473  0.         0.         0.         0.\n",
            "  0.         3.06197547]\n",
            " [0.         0.         0.         0.         0.         0.\n",
            "  0.22305705 0.80253315]\n",
            " [0.         0.         0.         0.54712737 0.42146886 0.\n",
            "  3.09196403 0.        ]] \n",
            "\n"
          ]
        }
      ]
    },
    {
      "cell_type": "code",
      "source": [
        "o_out = forwardPass(h_out, W_o, b_o, 'linear')"
      ],
      "metadata": {
        "id": "e0hgMCxhtuVy"
      },
      "execution_count": 7,
      "outputs": []
    },
    {
      "cell_type": "code",
      "source": [
        "print('Output Layer Output (Linear)')\n",
        "print('================================')\n",
        "print(o_out, \"\\n\")"
      ],
      "metadata": {
        "colab": {
          "base_uri": "https://localhost:8080/"
        },
        "id": "9lJyHVJ9tw2G",
        "outputId": "50b4c2d6-bf9a-45f5-ec79-7044cd80562c"
      },
      "execution_count": 8,
      "outputs": [
        {
          "output_type": "stream",
          "name": "stdout",
          "text": [
            "Output Layer Output (Linear)\n",
            "================================\n",
            "[[2.96598907]\n",
            " [0.98707188]\n",
            " [3.00669343]] \n",
            "\n"
          ]
        }
      ]
    }
  ]
}