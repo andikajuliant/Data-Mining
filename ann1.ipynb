{
  "nbformat": 4,
  "nbformat_minor": 0,
  "metadata": {
    "colab": {
      "name": "ann1.ipynb",
      "provenance": [],
      "authorship_tag": "ABX9TyPd/lGH90hGoVBwJxouBHQJ",
      "include_colab_link": true
    },
    "kernelspec": {
      "name": "python3",
      "display_name": "Python 3"
    },
    "language_info": {
      "name": "python"
    }
  },
  "cells": [
    {
      "cell_type": "markdown",
      "metadata": {
        "id": "view-in-github",
        "colab_type": "text"
      },
      "source": [
        "<a href=\"https://colab.research.google.com/github/andikajuliant/Data-Mining/blob/main/ann1.ipynb\" target=\"_parent\"><img src=\"https://colab.research.google.com/assets/colab-badge.svg\" alt=\"Open In Colab\"/></a>"
      ]
    },
    {
      "cell_type": "code",
      "execution_count": 1,
      "metadata": {
        "id": "Xj9il0MssoCO"
      },
      "outputs": [],
      "source": [
        "import numpy as np"
      ]
    },
    {
      "cell_type": "code",
      "source": [
        "def forwardPass(inputs, weight, bias):\n",
        "        w_sum = np.dot(inputs, weight) + bias\n",
        "\n",
        "        # Linier Activation f(x) = x\n",
        "        act = w_sum\n",
        "\n",
        "        return act"
      ],
      "metadata": {
        "id": "CZelkrEjstG5"
      },
      "execution_count": 2,
      "outputs": []
    },
    {
      "cell_type": "code",
      "source": [
        "W= np.array([[2.9999999999]])\n",
        "b= np.array([[1.999999999]])"
      ],
      "metadata": {
        "id": "Khae2BnosvdN"
      },
      "execution_count": 3,
      "outputs": []
    },
    {
      "cell_type": "code",
      "source": [
        "inputs = np.array([[7], [8], [9], [10]])"
      ],
      "metadata": {
        "id": "D2F-tdJ2syZU"
      },
      "execution_count": 4,
      "outputs": []
    },
    {
      "cell_type": "code",
      "source": [
        "o_out = forwardPass(inputs, W, b)"
      ],
      "metadata": {
        "id": "_ndrzkoPs3AR"
      },
      "execution_count": 5,
      "outputs": []
    },
    {
      "cell_type": "code",
      "source": [
        "print('Output Layer Output (Linear)')\n",
        "print('===============================')\n",
        "print(o_out, \"\\n\")"
      ],
      "metadata": {
        "colab": {
          "base_uri": "https://localhost:8080/"
        },
        "id": "wlPGN5BLs5SY",
        "outputId": "e9c9bb49-7636-4271-fc1d-1825c3454191"
      },
      "execution_count": 6,
      "outputs": [
        {
          "output_type": "stream",
          "name": "stdout",
          "text": [
            "Output Layer Output (Linear)\n",
            "===============================\n",
            "[[23.]\n",
            " [26.]\n",
            " [29.]\n",
            " [32.]] \n",
            "\n"
          ]
        }
      ]
    }
  ]
}